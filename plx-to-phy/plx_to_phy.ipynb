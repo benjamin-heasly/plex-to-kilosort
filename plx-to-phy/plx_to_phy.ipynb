{
 "cells": [
  {
   "cell_type": "code",
   "execution_count": null,
   "id": "9141fae0",
   "metadata": {},
   "outputs": [],
   "source": [
    "import os\n",
    "import json\n",
    "import warnings\n",
    "warnings.simplefilter('ignore')\n",
    "\n",
    "import numpy as np\n",
    "\n",
    "import spikeinterface as si\n",
    "import spikeinterface.extractors as se\n",
    "import spikeinterface.exporters as sexp\n",
    "import probeinterface as pi\n",
    "import spikeinterface.widgets as sw\n",
    "\n",
    "%matplotlib widget"
   ]
  },
  {
   "cell_type": "code",
   "execution_count": null,
   "id": "9f28ba0e",
   "metadata": {},
   "outputs": [],
   "source": [
    "plx_file = os.getenv(\"PLX_FILE\", \"my_plexon_recording.plx\")\n",
    "print(f\"Reading spike sorting from PLX_FILE: {plx_file}\")\n",
    "\n",
    "bin_file = os.getenv(\"BIN_FILE\", \"my_plexon_recording_converted.plx.bin\")\n",
    "print(f\"Reading waveform data from BIN_FILE: {bin_file}\")\n",
    "\n",
    "ops_file = os.getenv(\"OPS_FILE\", \"my_kilosort_ops.json\")\n",
    "print(f\"Reading Kilosort ops from OPS_FILE: {ops_file}\")\n",
    "\n",
    "out_dir = os.getenv(\"OUT_DIR\", \".\")\n",
    "print(f\"Writing results  to OUT_DIR: {out_dir}\")"
   ]
  },
  {
   "cell_type": "code",
   "execution_count": null,
   "id": "2486273b",
   "metadata": {},
   "outputs": [],
   "source": [
    "print(f\"Making a probe from Kilosort ops and chanMap.\")\n",
    "\n",
    "with open(ops_file) as f:\n",
    "    ops = json.load(f)\n",
    "\n",
    "probe = pi.Probe(ndim=2, si_units='um')\n",
    "connected_indices = np.where(ops[\"chanMap\"][\"connected\"])[0]\n",
    "x_coords = np.array(ops[\"chanMap\"][\"xcoords\"])[connected_indices]\n",
    "y_coords = np.array(ops[\"chanMap\"][\"ycoords\"])[connected_indices]\n",
    "positions = np.vstack((x_coords, y_coords)).transpose()\n",
    "probe.set_contacts(positions, shapes='circle', shape_params={'radius': 7.5})\n",
    "probe.set_device_channel_indices(list(range(0, connected_indices.size)))\n",
    "\n",
    "channel_ids = np.argsort(ops[\"chanMap\"][\"ycoords\"])[connected_indices]\n",
    "probe.set_contact_ids(channel_ids)"
   ]
  },
  {
   "cell_type": "code",
   "execution_count": null,
   "id": "e0f96fd5",
   "metadata": {},
   "outputs": [],
   "source": [
    "print(f\"Reading recording from {bin_file}\")\n",
    "recording = si.core.BinaryRecordingExtractor(\n",
    "    bin_file,\n",
    "    sampling_frequency=int(ops['fs']),\n",
    "    num_chan=int(ops[\"NchanTOT\"]),\n",
    "    dtype=\"int16\",\n",
    "    gain_to_uV=1,\n",
    "    offset_to_uV=0,\n",
    "    is_filtered=True,\n",
    "    time_axis=0\n",
    ")\n",
    "recording = recording.set_probe(probe)\n",
    "print(recording)"
   ]
  },
  {
   "cell_type": "code",
   "execution_count": null,
   "id": "2ccba508",
   "metadata": {},
   "outputs": [],
   "source": [
    "sw.plot_probe_map(recording)"
   ]
  },
  {
   "cell_type": "code",
   "execution_count": null,
   "id": "6e287f67",
   "metadata": {},
   "outputs": [],
   "source": [
    "w = sw.plot_timeseries(\n",
    "    {\"raw\": recording},\n",
    "    clim=(-50, 50),\n",
    "    time_range=[10, 11],\n",
    "    order_channel_by_depth=True,\n",
    "    backend=\"ipywidgets\"\n",
    ")"
   ]
  },
  {
   "cell_type": "code",
   "execution_count": null,
   "id": "c9788032",
   "metadata": {},
   "outputs": [],
   "source": [
    "print(f\"Reading sorting from {plx_file}\")\n",
    "sorting = se.read_plexon_sorting(file_path=plx_file)\n",
    "print(sorting)"
   ]
  },
  {
   "cell_type": "code",
   "execution_count": null,
   "id": "73c7c402",
   "metadata": {},
   "outputs": [],
   "source": [
    "w_rs = sw.plot_rasters(sorting, time_range=[10, 11])"
   ]
  },
  {
   "cell_type": "code",
   "execution_count": null,
   "id": "b19391ad",
   "metadata": {},
   "outputs": [],
   "source": [
    "waveform_folder = f\"{out_dir}/waveforms\"\n",
    "print(f\"Making a waveform extractor, extracting to {waveform_folder}.\")\n",
    "waveform_extractor = si.extract_waveforms(\n",
    "    recording,\n",
    "    sorting,\n",
    "    folder=waveform_folder,\n",
    "    overwrite=True,\n",
    "    sparse=False)\n",
    "print(waveform_extractor)"
   ]
  },
  {
   "cell_type": "code",
   "execution_count": null,
   "id": "34b90eaf",
   "metadata": {},
   "outputs": [],
   "source": [
    "phy_folder = f\"{out_dir}/phy\"\n",
    "print(f\"Exporting to phy in folder {phy_folder}.\")\n",
    "sexp.export_to_phy(\n",
    "    waveform_extractor,\n",
    "    phy_folder,\n",
    "    copy_binary=False,\n",
    "    remove_if_exists=True,\n",
    "    compute_amplitudes=True,\n",
    "    compute_pc_features=True\n",
    ")"
   ]
  }
 ],
 "metadata": {
  "kernelspec": {
   "display_name": "si_env",
   "language": "python",
   "name": "python3"
  },
  "language_info": {
   "codemirror_mode": {
    "name": "ipython",
    "version": 3
   },
   "file_extension": ".py",
   "mimetype": "text/x-python",
   "name": "python",
   "nbconvert_exporter": "python",
   "pygments_lexer": "ipython3",
   "version": "3.9.15"
  },
  "vscode": {
   "interpreter": {
    "hash": "9df2a8d247b696fc17495fb11ae72149b3ecd07bbe97c6f2d5869f87589377af"
   }
  }
 },
 "nbformat": 4,
 "nbformat_minor": 5
}
